{
 "cells": [
  {
   "cell_type": "markdown",
   "id": "catholic-windsor",
   "metadata": {
    "papermill": {
     "duration": 0.011952,
     "end_time": "2021-06-01T00:13:00.123603",
     "exception": false,
     "start_time": "2021-06-01T00:13:00.111651",
     "status": "completed"
    },
    "tags": []
   },
   "source": [
    "# Identify a CPU bottleneck caused by a callback process with Amazon SageMaker Debugger \n",
    "\n",
    "***Note: 본 노트북 코드는 [영문 노트북](https://github.com/aws/amazon-sagemaker-examples/blob/master/sagemaker-debugger/tensorflow_profiling/callback_bottleneck.ipynb)을 한국어화(중간중간 역주 추가와 documentation 보완)하면서 보완하면서, Debugger 예제 코드를 추가하였습니다.***\n",
    "\n",
    "이 노트북에서는 TensorFlow Keras 콜백으로 인해 발생하는 훈련 병목 현상을 식별하는 방법을 보여줍니다. 이러한 유형의 병목 현상을 시뮬레이션하기 위해 Amazon SageMaker Debugger의 텐서 모니터링 기능과 관련된 콜백을 호출하여 많은 수의 텐서를 높은 빈도로 수집합니다."
   ]
  },
  {
   "cell_type": "markdown",
   "id": "solved-laptop",
   "metadata": {
    "papermill": {
     "duration": 0.011776,
     "end_time": "2021-06-01T00:13:00.147143",
     "exception": false,
     "start_time": "2021-06-01T00:13:00.135367",
     "status": "completed"
    },
    "tags": []
   },
   "source": [
    "### Install SageMaker and smdebug\n",
    "2020년 12월에 출시된 새로운 디버거 프로파일링 기능을 사용하려면, 최신 버전의 SageMaker 및 SMDebug SDK가 설치되어 있는지 확인하세요. 다음 코드 셀을 사용하여 라이브러리를 업데이트하고 Jupyter 커널을 다시 시작하여 업데이트를 적용합니다."
   ]
  },
  {
   "cell_type": "code",
   "execution_count": null,
   "id": "established-despite",
   "metadata": {},
   "outputs": [],
   "source": [
    "import sys\n",
    "import IPython\n",
    "import boto3    \n",
    "import sagemaker    \n",
    "install_needed = False  # should only be True once\n",
    "if install_needed:\n",
    "    print(\"installing deps and restarting kernel\")\n",
    "    !{sys.executable} -m pip install -U sagemaker smdebug\n",
    "    IPython.Application.instance().kernel.do_shutdown(True)\n",
    "\n",
    "bucket = sagemaker.Session().default_bucket()    "
   ]
  },
  {
   "cell_type": "code",
   "execution_count": null,
   "id": "superb-champagne",
   "metadata": {},
   "outputs": [],
   "source": [
    "# !pip install -qU horovod"
   ]
  },
  {
   "cell_type": "markdown",
   "id": "fixed-sequence",
   "metadata": {
    "papermill": {
     "duration": 0.011722,
     "end_time": "2021-06-01T00:13:00.200769",
     "exception": false,
     "start_time": "2021-06-01T00:13:00.189047",
     "status": "completed"
    },
    "tags": []
   },
   "source": [
    "<br>\n",
    "\n",
    "## 1. Prepare training dataset\n",
    "---\n",
    "\n",
    "### Tensorflow Datasets package\n",
    "\n",
    "우선 노트북 커널을 Tensorflow 2.x로 설정합니다.\n",
    "\n",
    "이 실험에는 CIFAR-10 데이터셋을 사용합니다. CIFAR-10 데이터셋을 다운로드하고 TFRecord 형식으로 변환하려면 `demo/generate_cifar10_tfrecords`를 실행하고 tfrecord 파일을 S3 버킷에 업로드하세요."
   ]
  },
  {
   "cell_type": "code",
   "execution_count": null,
   "id": "criminal-integer",
   "metadata": {
    "execution": {
     "iopub.execute_input": "2021-06-01T00:13:00.228178Z",
     "iopub.status.busy": "2021-06-01T00:13:00.227679Z",
     "iopub.status.idle": "2021-06-01T00:13:22.616547Z",
     "shell.execute_reply": "2021-06-01T00:13:22.616985Z"
    },
    "jupyter": {
     "outputs_hidden": true
    },
    "papermill": {
     "duration": 22.404515,
     "end_time": "2021-06-01T00:13:22.617136",
     "exception": false,
     "start_time": "2021-06-01T00:13:00.212621",
     "status": "completed"
    },
    "tags": []
   },
   "outputs": [],
   "source": [
    "!python demo/generate_cifar10_tfrecords.py --data-dir=./data"
   ]
  },
  {
   "cell_type": "code",
   "execution_count": null,
   "id": "crude-fancy",
   "metadata": {
    "execution": {
     "iopub.execute_input": "2021-06-01T00:13:22.761207Z",
     "iopub.status.busy": "2021-06-01T00:13:22.760348Z",
     "iopub.status.idle": "2021-06-01T00:13:27.334379Z",
     "shell.execute_reply": "2021-06-01T00:13:27.334809Z"
    },
    "papermill": {
     "duration": 4.663508,
     "end_time": "2021-06-01T00:13:27.334960",
     "exception": false,
     "start_time": "2021-06-01T00:13:22.671452",
     "status": "completed"
    },
    "tags": []
   },
   "outputs": [],
   "source": [
    "import sagemaker\n",
    "\n",
    "s3_bucket = sagemaker.Session().default_bucket()\n",
    "\n",
    "dataset_prefix = \"data/cifar10-tfrecords\"\n",
    "desired_s3_uri = f\"s3://{s3_bucket}/{dataset_prefix}\"\n",
    "\n",
    "dataset_location = sagemaker.s3.S3Uploader.upload(local_path=\"data\", desired_s3_uri=desired_s3_uri)\n",
    "print(f\"Dataset uploaded to {dataset_location}\")"
   ]
  },
  {
   "cell_type": "markdown",
   "id": "driving-austria",
   "metadata": {
    "papermill": {
     "duration": 0.051662,
     "end_time": "2021-06-01T00:13:27.438637",
     "exception": false,
     "start_time": "2021-06-01T00:13:27.386975",
     "status": "completed"
    },
    "tags": []
   },
   "source": [
    "<br>\n",
    "\n",
    "## 2. Create a Training Job with Profiling Enabled<a class=\"anchor\" id=\"option-1\"></a>\n",
    "---\n",
    "\n",
    "표준 [SageMaker Estimator API for Tensorflow](https://sagemaker.readthedocs.io/en/stable/frameworks/tensorflow/sagemaker.tensorflow.html#tensorflow-estimator)를 사용하여 훈련 작업을 생성합니다. 프로파일링을 사용하려면 `ProfilerConfig` 객체를 만들고 `TensorFlow` estimator `profiler_config` 파라메터에 전달합니다. 본 예제는 프로파일링 간격을 500밀리초(0.5초)로 설정했습니다."
   ]
  },
  {
   "cell_type": "markdown",
   "id": "returning-geography",
   "metadata": {
    "papermill": {
     "duration": 0.051632,
     "end_time": "2021-06-01T00:13:27.541950",
     "exception": false,
     "start_time": "2021-06-01T00:13:27.490318",
     "status": "completed"
    },
    "tags": []
   },
   "source": [
    "### Set a profiler configuration"
   ]
  },
  {
   "cell_type": "code",
   "execution_count": null,
   "id": "objective-titanium",
   "metadata": {
    "execution": {
     "iopub.execute_input": "2021-06-01T00:13:27.650304Z",
     "iopub.status.busy": "2021-06-01T00:13:27.649576Z",
     "iopub.status.idle": "2021-06-01T00:13:27.652036Z",
     "shell.execute_reply": "2021-06-01T00:13:27.651534Z"
    },
    "papermill": {
     "duration": 0.058237,
     "end_time": "2021-06-01T00:13:27.652143",
     "exception": false,
     "start_time": "2021-06-01T00:13:27.593906",
     "status": "completed"
    },
    "tags": []
   },
   "outputs": [],
   "source": [
    "from sagemaker.debugger import ProfilerConfig, FrameworkProfile\n",
    "\n",
    "profiler_config = ProfilerConfig(\n",
    "    system_monitor_interval_millis=500,\n",
    "    framework_profile_params=FrameworkProfile(\n",
    "        local_path=\"/opt/ml/output/profiler/\", start_step=5, num_steps=2\n",
    "    ),\n",
    ")"
   ]
  },
  {
   "cell_type": "markdown",
   "id": "attempted-maintenance",
   "metadata": {
    "papermill": {
     "duration": 0.052106,
     "end_time": "2021-06-01T00:13:27.756284",
     "exception": false,
     "start_time": "2021-06-01T00:13:27.704178",
     "status": "completed"
    },
    "tags": []
   },
   "source": [
    "### Configure Debugger hook\n",
    "\n",
    "50 step마다 텐서를 수집하도록 Debugger hook를 구성합니다."
   ]
  },
  {
   "cell_type": "code",
   "execution_count": null,
   "id": "quality-anatomy",
   "metadata": {
    "execution": {
     "iopub.execute_input": "2021-06-01T00:13:27.865666Z",
     "iopub.status.busy": "2021-06-01T00:13:27.864972Z",
     "iopub.status.idle": "2021-06-01T00:13:27.866970Z",
     "shell.execute_reply": "2021-06-01T00:13:27.867374Z"
    },
    "papermill": {
     "duration": 0.058783,
     "end_time": "2021-06-01T00:13:27.867516",
     "exception": false,
     "start_time": "2021-06-01T00:13:27.808733",
     "status": "completed"
    },
    "tags": []
   },
   "outputs": [],
   "source": [
    "import os\n",
    "from sagemaker.debugger import DebuggerHookConfig, CollectionConfig\n",
    "\n",
    "debugger_hook_config = DebuggerHookConfig(\n",
    "    hook_parameters={\"save_interval\": \"50\"},\n",
    "    collection_configs=[\n",
    "        CollectionConfig(name=\"outputs\"),\n",
    "        CollectionConfig(name=\"gradients\"),\n",
    "        CollectionConfig(name=\"weights\"),\n",
    "        CollectionConfig(name=\"layers\"),\n",
    "    ],\n",
    ")"
   ]
  },
  {
   "cell_type": "markdown",
   "id": "satellite-eugene",
   "metadata": {},
   "source": [
    "### Define hyperparameters\n",
    "\n",
    "훈련 스크립트 [train_tf_bottleneck.py](./demo/train_tf_bottleneck) 여러 파라메터들을 허용합니다. Epoch 수 및 배치 크기와 같은 하이퍼파라메터를 정의합니다."
   ]
  },
  {
   "cell_type": "code",
   "execution_count": null,
   "id": "studied-project",
   "metadata": {
    "execution": {
     "iopub.execute_input": "2021-06-01T00:13:28.083406Z",
     "iopub.status.busy": "2021-06-01T00:13:28.082867Z",
     "iopub.status.idle": "2021-06-01T00:13:28.084843Z",
     "shell.execute_reply": "2021-06-01T00:13:28.085239Z"
    },
    "papermill": {
     "duration": 0.058554,
     "end_time": "2021-06-01T00:13:28.085393",
     "exception": false,
     "start_time": "2021-06-01T00:13:28.026839",
     "status": "completed"
    },
    "tags": []
   },
   "outputs": [],
   "source": [
    "hyperparameters = {\"epoch\": 2, \"batch_size\": 128}"
   ]
  },
  {
   "cell_type": "markdown",
   "id": "confidential-secretary",
   "metadata": {
    "papermill": {
     "duration": 0.052114,
     "end_time": "2021-06-01T00:13:28.190111",
     "exception": false,
     "start_time": "2021-06-01T00:13:28.137997",
     "status": "completed"
    },
    "tags": []
   },
   "source": [
    "### Get the image URI\n",
    "\n",
    "이 노트북을 실행하는 리전에 따라 도커 이미지가 달라집니다."
   ]
  },
  {
   "cell_type": "code",
   "execution_count": null,
   "id": "gothic-cigarette",
   "metadata": {
    "execution": {
     "iopub.execute_input": "2021-06-01T00:13:28.307641Z",
     "iopub.status.busy": "2021-06-01T00:13:28.302079Z",
     "iopub.status.idle": "2021-06-01T00:13:28.312840Z",
     "shell.execute_reply": "2021-06-01T00:13:28.313237Z"
    },
    "papermill": {
     "duration": 0.071134,
     "end_time": "2021-06-01T00:13:28.313374",
     "exception": false,
     "start_time": "2021-06-01T00:13:28.242240",
     "status": "completed"
    },
    "tags": []
   },
   "outputs": [],
   "source": [
    "import boto3\n",
    "\n",
    "session = boto3.session.Session()\n",
    "region = session.region_name\n",
    "\n",
    "image_uri = f\"763104351884.dkr.ecr.{region}.amazonaws.com/tensorflow-training:2.3.1-gpu-py37-cu110-ubuntu18.04\""
   ]
  },
  {
   "cell_type": "markdown",
   "id": "impaired-liverpool",
   "metadata": {
    "papermill": {
     "duration": 0.052806,
     "end_time": "2021-06-01T00:13:28.419138",
     "exception": false,
     "start_time": "2021-06-01T00:13:28.366332",
     "status": "completed"
    },
    "tags": []
   },
   "source": [
    "### Define SageMaker Tensorflow Estimator\n",
    "\n",
    "프로파일링을 활성화하려면 디버거 프로파일링 구성 (`profiler_config`), 디버거 규칙 목록 (`rules`) 및 이미지 URI (`image_uri)`를 estimator에 전달해야 합니다. 디버거는 SageMaker estimator가 훈련 작업을 요청하는 동안 모니터링 및 프로파일링을 활성화합니다."
   ]
  },
  {
   "cell_type": "code",
   "execution_count": null,
   "id": "orange-agent",
   "metadata": {
    "execution": {
     "iopub.execute_input": "2021-06-01T00:13:28.529298Z",
     "iopub.status.busy": "2021-06-01T00:13:28.528797Z",
     "iopub.status.idle": "2021-06-01T00:13:28.988436Z",
     "shell.execute_reply": "2021-06-01T00:13:28.988897Z"
    },
    "papermill": {
     "duration": 0.51737,
     "end_time": "2021-06-01T00:13:28.989048",
     "exception": false,
     "start_time": "2021-06-01T00:13:28.471678",
     "status": "completed"
    },
    "tags": []
   },
   "outputs": [],
   "source": [
    "import sagemaker\n",
    "from sagemaker.tensorflow import TensorFlow\n",
    "\n",
    "job_name = \"network-bottleneck\"\n",
    "instance_count = 1\n",
    "instance_type = \"ml.p2.xlarge\"\n",
    "entry_script = \"train_tf_bottleneck.py\"\n",
    "\n",
    "estimator = TensorFlow(\n",
    "    role=sagemaker.get_execution_role(),\n",
    "    image_uri=image_uri,\n",
    "    base_job_name=job_name,\n",
    "    instance_type=instance_type,\n",
    "    instance_count=instance_count,\n",
    "    entry_point=entry_script,\n",
    "    source_dir=\"demo\",\n",
    "    profiler_config=profiler_config,\n",
    "    debugger_hook_config=debugger_hook_config,\n",
    "    script_mode=True,\n",
    "    hyperparameters=hyperparameters,\n",
    "    input_mode=\"Pipe\",\n",
    ")"
   ]
  },
  {
   "cell_type": "markdown",
   "id": "dutch-clearance",
   "metadata": {
    "papermill": {
     "duration": 0.052919,
     "end_time": "2021-06-01T00:13:29.201150",
     "exception": false,
     "start_time": "2021-06-01T00:13:29.148231",
     "status": "completed"
    },
    "tags": []
   },
   "source": [
    "### Start training job\n",
    "\n",
    "`wait=False` argument를 포함한 `estimator.fit()`은 백그라운드에서 훈련 작업을 시작합니다. 대시보드 또는 분석 노트북 실행을 계속할 수 있습니다."
   ]
  },
  {
   "cell_type": "code",
   "execution_count": null,
   "id": "liked-characteristic",
   "metadata": {
    "execution": {
     "iopub.execute_input": "2021-06-01T00:13:29.311413Z",
     "iopub.status.busy": "2021-06-01T00:13:29.310918Z",
     "iopub.status.idle": "2021-06-01T00:13:29.915090Z",
     "shell.execute_reply": "2021-06-01T00:13:29.915520Z"
    },
    "papermill": {
     "duration": 0.66101,
     "end_time": "2021-06-01T00:13:29.915670",
     "exception": false,
     "start_time": "2021-06-01T00:13:29.254660",
     "status": "completed"
    },
    "tags": []
   },
   "outputs": [],
   "source": [
    "remote_inputs = {\"train\": dataset_location + \"/train\"}\n",
    "\n",
    "estimator.fit(remote_inputs, wait=True)"
   ]
  },
  {
   "cell_type": "code",
   "execution_count": null,
   "id": "buried-wireless",
   "metadata": {},
   "outputs": [],
   "source": [
    "training_job_name = estimator.latest_training_job.name\n",
    "print(\"Training Job Name:  {}\".format(training_job_name))"
   ]
  },
  {
   "cell_type": "markdown",
   "id": "first-hamilton",
   "metadata": {},
   "source": [
    "AWS 콘솔 화면에서 `Training jobs`를 확인해 보세요. 아래 코드 셀에서 자동으로 생성되는 링크를 클릭하셔도 됩니다."
   ]
  },
  {
   "cell_type": "code",
   "execution_count": null,
   "id": "respiratory-metro",
   "metadata": {},
   "outputs": [],
   "source": [
    "from IPython.core.display import display, HTML\n",
    "\n",
    "display(\n",
    "    HTML(\n",
    "        '<b>Review <a target=\"blank\" href=\"https://console.aws.amazon.com/sagemaker/home?region={}#/jobs/{}\">Training Job</a> After About 5 Minutes</b>'.format(\n",
    "            region, training_job_name\n",
    "        )\n",
    "    )\n",
    ")\n",
    "\n",
    "display(\n",
    "    HTML(\n",
    "        '<b>Review <a target=\"blank\" href=\"https://console.aws.amazon.com/cloudwatch/home?region={}#logStream:group=/aws/sagemaker/TrainingJobs;prefix={};streamFilter=typeLogStreamPrefix\">CloudWatch Logs</a> After About 5 Minutes</b>'.format(\n",
    "            region, training_job_name\n",
    "        )\n",
    "    )\n",
    ")\n",
    "\n",
    "display(\n",
    "    HTML(\n",
    "        '<b>Review <a target=\"blank\" href=\"https://s3.console.aws.amazon.com/s3/buckets/{}/{}/?region={}&tab=overview\">S3 Output Data</a> After The Training Job Has Completed</b>'.format(\n",
    "            bucket, training_job_name, region\n",
    "        )\n",
    "    )\n",
    ")"
   ]
  },
  {
   "cell_type": "markdown",
   "id": "reverse-control",
   "metadata": {
    "papermill": {
     "duration": 0.053011,
     "end_time": "2021-06-01T00:13:30.022207",
     "exception": false,
     "start_time": "2021-06-01T00:13:29.969196",
     "status": "completed"
    },
    "tags": []
   },
   "source": [
    "<br>\n",
    "\n",
    "## 3. [SageMaker Studio Only] Monitor the system resource utilization using SageMaker Studio\n",
    "---\n",
    "\n",
    "SageMaker Studio는 시스템 및 프레임워크 성능 메트릭의 분석 리포트와 plot을 찾을 수 있는 Sagemaker Debugger용 시각화 도구를 제공합니다.\n",
    "\n",
    "SageMaker Studio에서 이 정보에 액세스하려면, 왼쪽의 마지막 아이콘을 클릭하여 `SageMaker Components and registries` 를 열고 `Experiments and trials` 을 선택합니다. 훈련 작업 목록이 표시됩니다. 해당 job을 마우스 오른쪽 버튼으로 클릭하면 팝업 메뉴가 표시되고, `Open Debugger for insights` 를 클릭하면 아래와 같이 SageMaker 디버거에 대한 새 탭이 열립니다.\n",
    "\n",
    "`Overview`와 `Nodes`의 두 가지 탭이 있습니다. `Overview`는 빠른 검토를 위한 프로파일링 요약을 제공하고, `Nodes`는 모든 노드에 대한 자세한 utilization 정보를 제공합니다."
   ]
  },
  {
   "cell_type": "markdown",
   "id": "harmful-turkish",
   "metadata": {
    "papermill": {
     "duration": 0.05283,
     "end_time": "2021-06-01T00:13:30.127965",
     "exception": false,
     "start_time": "2021-06-01T00:13:30.075135",
     "status": "completed"
    },
    "tags": []
   },
   "source": [
    "<br>\n",
    "\n",
    "## 4. SageMaker Debugger profiling analysis utilities\n",
    "---\n",
    "\n",
    "프로파일링 분석 유틸리티를 사용하여 문제의 원인에 대한 더 깊은 통찰력(insight)을 얻을 수 있습니다. 본 실습에서는 bokeh 및 smdebug 패키지를 사용합니다."
   ]
  },
  {
   "cell_type": "code",
   "execution_count": null,
   "id": "built-rhythm",
   "metadata": {
    "execution": {
     "iopub.execute_input": "2021-06-01T00:13:30.237604Z",
     "iopub.status.busy": "2021-06-01T00:13:30.236910Z",
     "iopub.status.idle": "2021-06-01T00:13:40.333732Z",
     "shell.execute_reply": "2021-06-01T00:13:40.334232Z"
    },
    "papermill": {
     "duration": 10.153683,
     "end_time": "2021-06-01T00:13:40.334396",
     "exception": false,
     "start_time": "2021-06-01T00:13:30.180713",
     "status": "completed"
    },
    "tags": []
   },
   "outputs": [],
   "source": [
    "! pip install bokeh==2.1.1\n",
    "! pip install smdebug"
   ]
  },
  {
   "cell_type": "markdown",
   "id": "adopted-nerve",
   "metadata": {
    "papermill": {
     "duration": 0.064631,
     "end_time": "2021-06-01T00:13:40.464137",
     "exception": false,
     "start_time": "2021-06-01T00:13:40.399506",
     "status": "completed"
    },
    "tags": []
   },
   "source": [
    "smdebug를 사용하여 GPU 및 프레임워크 지표(metric)를 추출합니다."
   ]
  },
  {
   "cell_type": "code",
   "execution_count": null,
   "id": "external-slide",
   "metadata": {
    "execution": {
     "iopub.execute_input": "2021-06-01T00:13:40.603797Z",
     "iopub.status.busy": "2021-06-01T00:13:40.603249Z",
     "iopub.status.idle": "2021-06-01T00:13:42.983379Z",
     "shell.execute_reply": "2021-06-01T00:13:42.982357Z"
    },
    "papermill": {
     "duration": 2.455191,
     "end_time": "2021-06-01T00:13:42.983612",
     "exception": true,
     "start_time": "2021-06-01T00:13:40.528421",
     "status": "failed"
    },
    "tags": []
   },
   "outputs": [],
   "source": [
    "import boto3\n",
    "from smdebug.profiler.analysis.notebook_utils.training_job import TrainingJob\n",
    "from smdebug.profiler.analysis.utils.profiler_data_to_pandas import PandasFrame\n",
    "\n",
    "\n",
    "training_job_name = estimator.latest_training_job.name\n",
    "region = boto3.Session().region_name\n",
    "\n",
    "tj = TrainingJob(training_job_name, region)\n",
    "\n",
    "pf = PandasFrame(tj.profiler_s3_output_path)\n",
    "\n",
    "# extract gpu metrics\n",
    "system_metrics_df = pf.get_all_system_metrics()\n",
    "gpus = system_metrics_df[system_metrics_df[\"dimension\"] == \"GPUUtilization\"]\n",
    "timestamps = gpus[\"timestamp_us\"].to_numpy()\n",
    "values = gpus[\"value\"].to_numpy()\n",
    "\n",
    "# exctract framework metrics\n",
    "framework_metrics_df = pf.get_all_framework_metrics(\n",
    "    selected_framework_metrics=[\"Step:ModeKeys.TRAIN\", \"Step:ModeKeys.GLOBAL\"]\n",
    ")\n",
    "train_steps = framework_metrics_df[\n",
    "    framework_metrics_df[\"framework_metric\"].isin([\"Step:ModeKeys.TRAIN\", \"Step:ModeKeys.GLOBAL\"])\n",
    "]\n",
    "start_step = train_steps[\"start_time_us\"].to_numpy()\n",
    "end_step = train_steps[\"end_time_us\"].to_numpy()\n",
    "step_num = train_steps[\"step\"].to_numpy()"
   ]
  },
  {
   "cell_type": "markdown",
   "id": "lesbian-roommate",
   "metadata": {
    "papermill": {
     "duration": null,
     "end_time": null,
     "exception": null,
     "start_time": null,
     "status": "pending"
    },
    "tags": []
   },
   "source": [
    "bokeh를 사용하여 GPU 지표와 훈련 진행 상황을 동일한 그래프에 표시합니다. 이를 통해 둘 사이의 상관 관계를 파악할 수 있습니다. GPU 사용률 감소가 노란색으로 표시된 50번째 step마다 일치하는 것을 볼 수 있습니다. 이는 모든 그래프 텐서를 캡처하기 위해 선택한 step입니다.\n",
    "\n",
    "![bokeh-graph](./images/bokeh_graph.png)"
   ]
  },
  {
   "cell_type": "code",
   "execution_count": null,
   "id": "instructional-cream",
   "metadata": {
    "papermill": {
     "duration": null,
     "end_time": null,
     "exception": null,
     "start_time": null,
     "status": "pending"
    },
    "tags": []
   },
   "outputs": [],
   "source": [
    "import numpy as np\n",
    "from bokeh.models import ColumnDataSource, CustomJS, Div, HoverTool, HBar\n",
    "from bokeh.models.glyphs import Circle, Line\n",
    "from bokeh.plotting import figure, show\n",
    "\n",
    "plot = figure(\n",
    "    plot_height=400,\n",
    "    plot_width=1400,\n",
    "    x_range=(timestamps[0], timestamps[-1]),\n",
    "    y_range=(-1, 110),\n",
    "    tools=\"crosshair,xbox_select,pan,reset,save,xwheel_zoom\",\n",
    ")\n",
    "x_range = plot.x_range\n",
    "\n",
    "plot.xgrid.visible = False\n",
    "plot.ygrid.visible = False\n",
    "\n",
    "colors = np.where(step_num % 50 == 0, \"yellow\", \"purple\")\n",
    "\n",
    "# pad framework metrics to match length of system metrics\n",
    "pad = values.size - step_num.size\n",
    "source = ColumnDataSource(\n",
    "    data=dict(\n",
    "        x=timestamps,\n",
    "        y=values,\n",
    "        left=np.pad(start_step, (0, pad)),\n",
    "        right=np.pad(end_step, (0, pad)),\n",
    "        color=np.pad(colors, (0, pad)),\n",
    "    )\n",
    ")\n",
    "\n",
    "\n",
    "callback = CustomJS(\n",
    "    args=dict(s1=source, div=Div(width=250, height=100, height_policy=\"fixed\")),\n",
    "    code=\"\"\"\n",
    "        console.log('Running CustomJS callback now.');\n",
    "        var inds = s1.selected.indices;\n",
    "        console.log(inds);\n",
    "        var line = \"<span style=float:left;clear:left;font_size=13px><b> Selected index range: [\" + Math.min.apply(Math,inds) + \",\" + Math.max.apply(Math,inds) + \"]</b></span>\\\\n\";\n",
    "        console.log(line)\n",
    "        var text = div.text.concat(line);\n",
    "        var lines = text.split(\"\\\\n\")\n",
    "        if (lines.length > 35)\n",
    "            lines.shift();\n",
    "        div.text = lines.join(\"\\\\n\");\"\"\",\n",
    ")\n",
    "\n",
    "plot.js_on_event(\"selectiongeometry\", callback)\n",
    "\n",
    "line = Line(x=\"x\", y=\"y\", line_color=\"white\")\n",
    "circle = Circle(x=\"x\", y=\"y\", fill_alpha=0, line_width=0)\n",
    "hbar = HBar(\n",
    "    y=105, height=5, right=\"right\", left=\"left\", fill_color=\"color\", line_cap=\"round\", line_width=0\n",
    ")\n",
    "\n",
    "\n",
    "p = plot.add_glyph(source, line)\n",
    "p = plot.add_glyph(source, circle)\n",
    "p = plot.add_glyph(source, hbar)\n",
    "\n",
    "# create tooltip for hover tool\n",
    "hover = HoverTool(renderers=[p], tooltips=[(\"index\", \"$index\"), (\"(x,y)\", \"($x, $y)\")])\n",
    "\n",
    "plot.xaxis.axis_label = \"Time in ms\"\n",
    "plot.yaxis.axis_label = \"GPU Utilization\"\n",
    "plot.add_tools(hover)\n",
    "show(plot, notebook_handle=True)"
   ]
  }
 ],
 "metadata": {
  "instance_type": "ml.t3.medium",
  "kernelspec": {
   "display_name": "conda_tensorflow2_p36",
   "language": "python",
   "name": "conda_tensorflow2_p36"
  },
  "language_info": {
   "codemirror_mode": {
    "name": "ipython",
    "version": 3
   },
   "file_extension": ".py",
   "mimetype": "text/x-python",
   "name": "python",
   "nbconvert_exporter": "python",
   "pygments_lexer": "ipython3",
   "version": "3.6.13"
  },
  "papermill": {
   "default_parameters": {},
   "duration": 45.057723,
   "end_time": "2021-06-01T00:13:44.310180",
   "environment_variables": {},
   "exception": true,
   "input_path": "callback_bottleneck.ipynb",
   "output_path": "/opt/ml/processing/output/callback_bottleneck-2021-06-01-00-09-21.ipynb",
   "parameters": {
    "kms_key": "arn:aws:kms:us-west-2:521695447989:key/6e9984db-50cf-4c7e-926c-877ec47a8b25"
   },
   "start_time": "2021-06-01T00:12:59.252457",
   "version": "2.3.3"
  }
 },
 "nbformat": 4,
 "nbformat_minor": 5
}
