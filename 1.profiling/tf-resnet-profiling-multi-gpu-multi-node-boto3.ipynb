{
 "cells": [
  {
   "cell_type": "markdown",
   "metadata": {},
   "source": [
    "# Profiling TensorFlow Multi GPU Multi Node Training Job with Amazon SageMaker Debugger\n",
    "\n",
    "이 노트북은 SageMaker 디버거 프로파일링(debugger profiling) 기능이 활성화된 상태에서 TensorFlow 훈련 작업을 생성하는 과정을 안내합니다. Horovod를 사용하여 다중 GPU 다중 노드 훈련을 생성합니다."
   ]
  },
  {
   "cell_type": "markdown",
   "metadata": {},
   "source": [
    "### (Optional) Install SageMaker and SMDebug\n",
    "\n",
    "\n",
    "2020년 12월에 출시된 새로운 디버거 프로파일링 기능을 사용하려면, 최신 버전의 SageMaker 및 SMDebug SDK가 설치되어 있는지 확인하세요. 다음 코드 셀을 사용하여 라이브러리를 업데이트하고 Jupyter 커널을 다시 시작하여 업데이트를 적용합니다."
   ]
  },
  {
   "cell_type": "code",
   "execution_count": null,
   "metadata": {},
   "outputs": [],
   "source": [
    "import sys\n",
    "import IPython\n",
    "install_needed = False  # should only be True once\n",
    "if install_needed:\n",
    "    print(\"installing deps and restarting kernel\")\n",
    "    !{sys.executable} -m pip install -U boto3 sagemaker smdebug\n",
    "    IPython.Application.instance().kernel.do_shutdown(True)"
   ]
  },
  {
   "cell_type": "markdown",
   "metadata": {},
   "source": [
    "## 1. Create a Training Job with Debugger Enabled<a class=\"anchor\" id=\"option-1\"></a>\n",
    "\n",
    "Boto3 SageMaker 클라이언트의 `create_training_job()` 함수를 사용하여 훈련 작업을 시작합니다."
   ]
  },
  {
   "cell_type": "markdown",
   "metadata": {},
   "source": [
    "### Start a SageMaker session and retrieve the current region and the default Amazon S3 bucket URI"
   ]
  },
  {
   "cell_type": "code",
   "execution_count": null,
   "metadata": {},
   "outputs": [],
   "source": [
    "import sagemaker\n",
    "\n",
    "session = sagemaker.Session()\n",
    "region = session.boto_region_name\n",
    "bucket = session.default_bucket()\n",
    "print(region, bucket)"
   ]
  },
  {
   "cell_type": "markdown",
   "metadata": {},
   "source": [
    "### Upload a training script to the S3 bucket"
   ]
  },
  {
   "cell_type": "code",
   "execution_count": null,
   "metadata": {},
   "outputs": [],
   "source": [
    "import boto3, tarfile\n",
    "\n",
    "source = \"source.tar.gz\"\n",
    "project = \"debugger-boto3-profiling-test\"\n",
    "\n",
    "tar = tarfile.open(source, \"w:gz\")\n",
    "tar.add(\"entry_point/tf-hvd-train.py\")\n",
    "tar.close()\n",
    "\n",
    "s3 = boto3.client(\"s3\")\n",
    "s3.upload_file(source, bucket, project + \"/\" + source)"
   ]
  },
  {
   "cell_type": "code",
   "execution_count": null,
   "metadata": {},
   "outputs": [],
   "source": [
    "upload_file_path = f\"s3://{bucket}/{project}/{source}\"\n",
    "print(upload_file_path)"
   ]
  },
  {
   "cell_type": "markdown",
   "metadata": {},
   "source": [
    "### Create a Boto3 SageMaker client object"
   ]
  },
  {
   "cell_type": "code",
   "execution_count": null,
   "metadata": {},
   "outputs": [],
   "source": [
    "sm = boto3.Session(region_name=region).client(\"sagemaker\")"
   ]
  },
  {
   "cell_type": "markdown",
   "metadata": {},
   "source": [
    "### Configure the request body of the `create_training_job()` function\n",
    "\n",
    "`create_training_job()` 함수에 대한 request body에 포함하려면 다음 파라메터들이 필요합니다.\n",
    "\n",
    "- `TrainingJobName` - 수정하려는 경우 접두사(prefix) 또는 전체 이름을 지정합니다.\n",
    "- `HyperParameters` - 다음 항목을 설정합니다.\n",
    "  - `sagemaker_program` 및 `sagemaker_submit_directory` - 훈련 스크립트의 S3 버킷 URI입니다. 이를 통해 SageMaker는 URI에서 훈련 스크립트를 읽고 훈련 작업을 시작할 수 있습니다.\n",
    "  - `sagemaker_mpi` - 분산 학습을 설정하려면 이러한 키-값(key-value) 쌍을 구성합니다.\n",
    "  - 모델에 다른 하이퍼파라메터를 추가할 수도 있습니다.\n",
    "- `AlgorithmSpecification` - `TrainingImage`를 지정합니다. 이 예에서는 공식 TensorFlow DLC 이미지가 사용됩니다. 여기에서 여러분의 고유한 훈련 컨테이너 이미지를 사용할 수도 있습니다.\n",
    "- `RoleArn` - **다음 셀을 실행하려면 훈련에 사용할 올바른 SageMaker 실행 역할 ARN을 지정해야 합니다.**.\n",
    "- `DebugHookConfig` 및 `DebugRuleConfigurations` - loss 값과 loss가 감소하지 않는 문제를 감시하도록 사전 설정되어 있습니다.\n",
    "- `ProfilerConfig` 및 `ProfilerRuleConfigurations` -  시스템 및 프레임워크 메트릭을 수집하고 모든 프로파일링 규칙을 시작하며 디버거 프로파일링 리포트를 생성하도록 사전 설정되어 있습니다.\n",
    "\n",
    "**중요**: `DebugRuleConfigurations` 및 `ProfilerRuleConfigurations`의 경우 **다음 셀을 실행하려면, [Amazon SageMaker Debugger Registry URLs for Built-in Rule Evaluators](https://docs.aws.amazon.com/sagemaker/latest/dg/debugger-docker-images-rules.html)에서 올바른 디버거 규칙 이미지 URI를 지정해야 합니다.** `sagemaker.debugger.get_rule_container_image_uri(region)` 함수는 디버거 규칙 도커 이미지를 자동으로 검색합니다.\n",
    "\n",
    "예:\n",
    "- `us-east-1` 리전일 경우, 올바른 image URI는 **503895931360**.dkr.ecr.**us-east-1**.amazonaws.com/sagemaker-debugger-rules:latest 입니다.\n",
    "- `us-west-2` 리전일 경우, 올바른 image URI는 **895741380848**.dkr.ecr.**us-west-2**.amazonaws.com/sagemaker-debugger-rules:latest 입니다.\n"
   ]
  },
  {
   "cell_type": "code",
   "execution_count": null,
   "metadata": {},
   "outputs": [],
   "source": [
    "import datetime\n",
    "\n",
    "training_job_name = \"profiler-boto3-\" + datetime.datetime.now().strftime(\"%Y-%m-%d-%H-%M-%S\")\n",
    "\n",
    "sm.create_training_job(\n",
    "    TrainingJobName=training_job_name,\n",
    "    HyperParameters={\n",
    "        \"sagemaker_program\": \"entry_point/tf-hvd-train.py\",\n",
    "        \"sagemaker_submit_directory\": \"s3://\" + bucket + \"/\" + project + \"/\" + source,\n",
    "        \"sagemaker_mpi_custom_mpi_options\": \"-verbose -x HOROVOD_TIMELINE=./hvd_timeline.json -x NCCL_DEBUG=INFO -x OMPI_MCA_btl_vader_single_copy_mechanism=none\",\n",
    "        \"sagemaker_mpi_enabled\": \"true\",\n",
    "        \"sagemaker_mpi_num_of_processes_per_host\": \"4\",\n",
    "    },\n",
    "    AlgorithmSpecification={\n",
    "        \"TrainingImage\": \"763104351884.dkr.ecr.\"\n",
    "        + region\n",
    "        + \".amazonaws.com/tensorflow-training:2.4.1-gpu-py37-cu110-ubuntu18.04\",\n",
    "        \"TrainingInputMode\": \"File\",\n",
    "        \"EnableSageMakerMetricsTimeSeries\": False,\n",
    "    },\n",
    "    # You must specify your SageMaker execution role ARN here\n",
    "    RoleArn=sagemaker.get_execution_role(),\n",
    "    OutputDataConfig={\"S3OutputPath\": \"s3://\" + bucket + \"/\" + project + \"/output\"},\n",
    "    ResourceConfig={\"InstanceType\": \"ml.p3.8xlarge\", \"InstanceCount\": 2, \"VolumeSizeInGB\": 30},\n",
    "    StoppingCondition={\"MaxRuntimeInSeconds\": 86400},\n",
    "    DebugHookConfig={\n",
    "        \"S3OutputPath\": \"s3://\" + bucket + \"/\" + project + \"/debug-output\",\n",
    "        \"CollectionConfigurations\": [\n",
    "            {\"CollectionName\": \"losses\", \"CollectionParameters\": {\"train.save_interval\": \"50\"}}\n",
    "        ],\n",
    "    },\n",
    "    DebugRuleConfigurations=[\n",
    "        {\n",
    "            \"RuleConfigurationName\": \"LossNotDecreasing\",\n",
    "            # You must specify the correct image URI from https://docs.aws.amazon.com/sagemaker/latest/dg/debugger-docker-images-rules.html\n",
    "            \"RuleEvaluatorImage\": sagemaker.debugger.get_rule_container_image_uri(region),\n",
    "            \"RuleParameters\": {\"rule_to_invoke\": \"LossNotDecreasing\"},\n",
    "        }\n",
    "    ],\n",
    "    ProfilerConfig={\n",
    "        \"S3OutputPath\": \"s3://\" + bucket + \"/\" + project + \"/profiler-output\",\n",
    "        \"ProfilingIntervalInMilliseconds\": 500,\n",
    "        \"ProfilingParameters\": {\n",
    "            \"DataloaderProfilingConfig\": '{\"StartStep\": 5, \"NumSteps\": 3, \"MetricsRegex\": \".*\", }',\n",
    "            \"DetailedProfilingConfig\": '{\"StartStep\": 5, \"NumSteps\": 3, }',\n",
    "            \"PythonProfilingConfig\": '{\"StartStep\": 5, \"NumSteps\": 3, \"ProfilerName\": \"cprofile\", \"cProfileTimer\": \"total_time\"}',\n",
    "            \"LocalPath\": \"/opt/ml/output/profiler/\",  # Optional. Local path for profiling outputs\n",
    "        },\n",
    "    },\n",
    "    ProfilerRuleConfigurations=[\n",
    "        {\n",
    "            \"RuleConfigurationName\": \"ProfilerReport\",\n",
    "            # You must specify the correct image URI from https://docs.aws.amazon.com/sagemaker/latest/dg/debugger-docker-images-rules.html\n",
    "            \"RuleEvaluatorImage\": sagemaker.debugger.get_rule_container_image_uri(region),\n",
    "            \"RuleParameters\": {\"rule_to_invoke\": \"ProfilerReport\"},\n",
    "        }\n",
    "    ],\n",
    ")"
   ]
  },
  {
   "cell_type": "markdown",
   "metadata": {},
   "source": [
    "## 2.  Analyze Profiling Data\n"
   ]
  },
  {
   "cell_type": "markdown",
   "metadata": {},
   "source": [
    "### Install the SMDebug client library to use Debugger analysis tools"
   ]
  },
  {
   "cell_type": "code",
   "execution_count": null,
   "metadata": {},
   "outputs": [],
   "source": [
    "import pip\n",
    "\n",
    "\n",
    "def import_or_install(package):\n",
    "    try:\n",
    "        __import__(package)\n",
    "    except ImportError:\n",
    "        pip.main([\"install\", package])\n",
    "\n",
    "\n",
    "import_or_install(\"smdebug\")"
   ]
  },
  {
   "cell_type": "markdown",
   "metadata": {},
   "source": [
    "### Use SMDebug to retrieve saved output data and use analysis tools\n",
    "\n",
    "훈련이 아직 진행 중인 동안 SageMaker Studio 또는 노트북에서 성능 데이터를 시각화할 수 있습니다. 디버거는 타임라인 차트 또는 히트맵 형식으로 시스템 메트릭을 그리는 유틸리티를 제공합니다. 자세한 내용은 노트북 [profiling_interactive_analysis.ipynb](analysis_tools/profiling_interactive_analysis.ipynb)를 확인하세요. 다음 코드 셀에서 총 CPU 및 GPU 사용률을 시계열 차트로 표시합니다. I/O, 메모리, 네트워크와 같은 다른 메트릭을 시각화하려면, `select_dimension` 및 `select_events`에 전달된 목록을 확장하기만 하면 됩니다."
   ]
  },
  {
   "cell_type": "code",
   "execution_count": null,
   "metadata": {},
   "outputs": [],
   "source": [
    "from smdebug.profiler.analysis.notebook_utils.training_job import TrainingJob\n",
    "\n",
    "tj = TrainingJob(training_job_name, region)\n",
    "tj.wait_for_sys_profiling_data_to_be_available()"
   ]
  },
  {
   "cell_type": "code",
   "execution_count": null,
   "metadata": {},
   "outputs": [],
   "source": [
    "from smdebug.profiler.analysis.notebook_utils.timeline_charts import TimelineCharts\n",
    "\n",
    "system_metrics_reader = tj.get_systems_metrics_reader()\n",
    "system_metrics_reader.refresh_event_file_list()\n",
    "\n",
    "view_timeline_charts = TimelineCharts(\n",
    "    system_metrics_reader,\n",
    "    framework_metrics_reader=None,\n",
    "    select_dimensions=[\"CPU\", \"GPU\"],\n",
    "    select_events=[\"total\"],\n",
    ")"
   ]
  },
  {
   "cell_type": "markdown",
   "metadata": {},
   "source": [
    "## 3. Download Debugger Profiling Report"
   ]
  },
  {
   "cell_type": "markdown",
   "metadata": {},
   "source": [
    "프로파일링 리포트 규칙은 기본 규칙 요약 및 다음 단계 권장 사항이 포함된 html 리포트 `profiler-report.html`을 생성합니다. 이 리포트는 S3 버킷에서 찾을 수 있습니다."
   ]
  },
  {
   "cell_type": "code",
   "execution_count": null,
   "metadata": {},
   "outputs": [],
   "source": [
    "rule_output_path = (\n",
    "    \"s3://\"\n",
    "    + bucket\n",
    "    + \"/\"\n",
    "    + project\n",
    "    + \"/output/\"\n",
    "    + training_job_name\n",
    "    + \"/rule-output/ProfilerReport/profiler-output/\"\n",
    ")"
   ]
  },
  {
   "cell_type": "code",
   "execution_count": null,
   "metadata": {},
   "outputs": [],
   "source": [
    "! aws s3 ls {rule_output_path} --recursive"
   ]
  },
  {
   "cell_type": "code",
   "execution_count": null,
   "metadata": {},
   "outputs": [],
   "source": [
    "! aws s3 cp {rule_output_path} . --recursive"
   ]
  },
  {
   "cell_type": "code",
   "execution_count": null,
   "metadata": {},
   "outputs": [],
   "source": [
    "from IPython.display import FileLink\n",
    "\n",
    "display(\"Click link below to view the profiler report\", FileLink(\"profiler-report.html\"))"
   ]
  },
  {
   "cell_type": "markdown",
   "metadata": {},
   "source": [
    "**Note: JupyterLab을 사용하는 경우 리포트를 연 후 왼쪽 상단에서 `Trust HTML` 를 클릭해야 합니다.**"
   ]
  }
 ],
 "metadata": {
  "kernelspec": {
   "display_name": "conda_python3",
   "language": "python",
   "name": "conda_python3"
  },
  "language_info": {
   "codemirror_mode": {
    "name": "ipython",
    "version": 3
   },
   "file_extension": ".py",
   "mimetype": "text/x-python",
   "name": "python",
   "nbconvert_exporter": "python",
   "pygments_lexer": "ipython3",
   "version": "3.6.13"
  }
 },
 "nbformat": 4,
 "nbformat_minor": 4
}
